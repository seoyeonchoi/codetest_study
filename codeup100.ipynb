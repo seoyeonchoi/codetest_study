{
 "cells": [
  {
   "cell_type": "code",
   "execution_count": 1,
   "id": "e6b4eff8",
   "metadata": {},
   "outputs": [
    {
     "name": "stdout",
     "output_type": "stream",
     "text": [
      "Hello\n"
     ]
    }
   ],
   "source": [
    "#1\n",
    "print(\"Hello\")"
   ]
  },
  {
   "cell_type": "code",
   "execution_count": 2,
   "id": "f6533f9a",
   "metadata": {},
   "outputs": [
    {
     "name": "stdout",
     "output_type": "stream",
     "text": [
      "Hello World\n"
     ]
    }
   ],
   "source": [
    "#2\n",
    "print(\"Hello World\")"
   ]
  },
  {
   "cell_type": "code",
   "execution_count": 3,
   "id": "db4bc21a",
   "metadata": {},
   "outputs": [
    {
     "name": "stdout",
     "output_type": "stream",
     "text": [
      "Hello\n",
      "World\n"
     ]
    }
   ],
   "source": [
    "#3\n",
    "print(\"Hello\\nWorld\")"
   ]
  },
  {
   "cell_type": "code",
   "execution_count": 4,
   "id": "af393bf3",
   "metadata": {},
   "outputs": [
    {
     "name": "stdout",
     "output_type": "stream",
     "text": [
      "'Hello'\n"
     ]
    }
   ],
   "source": [
    "#4\n",
    "print(\"'Hello'\")"
   ]
  },
  {
   "cell_type": "code",
   "execution_count": 5,
   "id": "ae84a4ad",
   "metadata": {},
   "outputs": [
    {
     "name": "stdout",
     "output_type": "stream",
     "text": [
      "\"Hello\"\n"
     ]
    }
   ],
   "source": [
    "#5\n",
    "print('\"Hello World\"')"
   ]
  },
  {
   "cell_type": "code",
   "execution_count": 8,
   "id": "22a0f111",
   "metadata": {},
   "outputs": [
    {
     "name": "stdout",
     "output_type": "stream",
     "text": [
      "\"!@#$%^&*()'\n"
     ]
    }
   ],
   "source": [
    "#6\n",
    "print('\"!@#$%^&*()\\'')\n",
    "# 출력 형식에 필요한 따옴표와 출력할 문자인 따옴표를 구분하기 위하여 \\\" 또는 \\' 를 이용하여 출력할 수 있다."
   ]
  },
  {
   "cell_type": "code",
   "execution_count": 9,
   "id": "30d455dd",
   "metadata": {},
   "outputs": [
    {
     "name": "stdout",
     "output_type": "stream",
     "text": [
      "\"C:\\Download\\'hello'.py\"\n"
     ]
    }
   ],
   "source": [
    "#7\n",
    "print('\\\"C:\\\\Download\\\\\\'hello\\'.py\"')\n",
    "# \\도 안전하게 출력하려면 \\\\를 사용하는 것이 좋다."
   ]
  },
  {
   "cell_type": "code",
   "execution_count": 10,
   "id": "159472c0",
   "metadata": {},
   "outputs": [
    {
     "name": "stdout",
     "output_type": "stream",
     "text": [
      "print(\"Hello\\nWorld\")\n"
     ]
    }
   ],
   "source": [
    "#8\n",
    "print('print(\\\"Hello\\\\nWorld\\\")')"
   ]
  },
  {
   "cell_type": "code",
   "execution_count": 11,
   "id": "fc3358d1",
   "metadata": {},
   "outputs": [
    {
     "name": "stdout",
     "output_type": "stream",
     "text": [
      "a\n",
      "a\n"
     ]
    }
   ],
   "source": [
    "#9\n",
    "c = input()\n",
    "print(c)"
   ]
  },
  {
   "cell_type": "code",
   "execution_count": 12,
   "id": "17f387dc",
   "metadata": {},
   "outputs": [
    {
     "name": "stdout",
     "output_type": "stream",
     "text": [
      "10\n",
      "10\n"
     ]
    }
   ],
   "source": [
    "#10\n",
    "n = int(input())\n",
    "print(n)"
   ]
  },
  {
   "cell_type": "code",
   "execution_count": 13,
   "id": "213cbcd9",
   "metadata": {},
   "outputs": [
    {
     "name": "stdout",
     "output_type": "stream",
     "text": [
      "1.414213\n",
      "1.414213\n"
     ]
    }
   ],
   "source": [
    "#11\n",
    "f = float(input())\n",
    "print(f)"
   ]
  },
  {
   "cell_type": "code",
   "execution_count": 14,
   "id": "f2c4c7b3",
   "metadata": {},
   "outputs": [
    {
     "name": "stdout",
     "output_type": "stream",
     "text": [
      "1\n",
      "2\n",
      "1 2\n"
     ]
    }
   ],
   "source": [
    "#12\n",
    "a = int(input())\n",
    "b = int(input())\n",
    "print(a, b)"
   ]
  },
  {
   "cell_type": "code",
   "execution_count": 15,
   "id": "8d2aa824",
   "metadata": {},
   "outputs": [
    {
     "name": "stdout",
     "output_type": "stream",
     "text": [
      "a\n",
      "b\n",
      "b\n",
      "a\n"
     ]
    }
   ],
   "source": [
    "#13\n",
    "a = str(input())\n",
    "b = str(input())\n",
    "print(b)\n",
    "print(a)"
   ]
  },
  {
   "cell_type": "code",
   "execution_count": 17,
   "id": "b184cb6e",
   "metadata": {},
   "outputs": [
    {
     "name": "stdout",
     "output_type": "stream",
     "text": [
      "2\n",
      "2.0\n",
      "2.0\n",
      "2.0\n"
     ]
    }
   ],
   "source": [
    "#14\n",
    "a = float(input())\n",
    "for i in range(3):\n",
    "    print(a)"
   ]
  },
  {
   "cell_type": "code",
   "execution_count": 19,
   "id": "f2b06958",
   "metadata": {},
   "outputs": [
    {
     "name": "stdout",
     "output_type": "stream",
     "text": [
      "2 3\n",
      "2\n",
      "3\n"
     ]
    }
   ],
   "source": [
    "#15\n",
    "a, b = map(int, input().split())        # 정수형 변수 2개 입력 받는 예제 \n",
    "print(a)\n",
    "print(b)"
   ]
  },
  {
   "cell_type": "code",
   "execution_count": 21,
   "id": "1bf1fdb0",
   "metadata": {},
   "outputs": [
    {
     "name": "stdout",
     "output_type": "stream",
     "text": [
      "a b\n",
      "b a\n"
     ]
    }
   ],
   "source": [
    "#16\n",
    "a, b = map(str, input().split())\n",
    "print(b, a)"
   ]
  },
  {
   "cell_type": "code",
   "execution_count": 23,
   "id": "5223dcf9",
   "metadata": {},
   "outputs": [
    {
     "name": "stdout",
     "output_type": "stream",
     "text": [
      "computer science\n",
      "computer science computer science computer science "
     ]
    }
   ],
   "source": [
    "#17\n",
    "a = input()\n",
    "for i in range(3):\n",
    "    print(a, end=' ')"
   ]
  },
  {
   "cell_type": "code",
   "execution_count": 26,
   "id": "742f678a",
   "metadata": {},
   "outputs": [
    {
     "name": "stdout",
     "output_type": "stream",
     "text": [
      "3:16\n",
      "3:16\n"
     ]
    }
   ],
   "source": [
    "#18\n",
    "a, b = map(int, input().split(':'))\n",
    "print(a, b, sep=':')"
   ]
  },
  {
   "cell_type": "code",
   "execution_count": 27,
   "id": "59f628ae",
   "metadata": {},
   "outputs": [
    {
     "name": "stdout",
     "output_type": "stream",
     "text": [
      "2020.3.4\n",
      "4-3-2020\n"
     ]
    }
   ],
   "source": [
    "#19\n",
    "year, month, day = map(int, input().split('.'))\n",
    "print(day, month, year, sep='-')"
   ]
  },
  {
   "cell_type": "code",
   "execution_count": 33,
   "id": "3263cec2",
   "metadata": {},
   "outputs": [
    {
     "name": "stdout",
     "output_type": "stream",
     "text": [
      "000907-1121112\n",
      "0009071121112\n"
     ]
    }
   ],
   "source": [
    "#20\n",
    "a, b = map(str, input().split('-'))\n",
    "print(a+b)"
   ]
  },
  {
   "cell_type": "code",
   "execution_count": 35,
   "id": "ac00cce6",
   "metadata": {
    "scrolled": true
   },
   "outputs": [
    {
     "name": "stdout",
     "output_type": "stream",
     "text": [
      "000907-1121112\n",
      "0009071121112\n",
      "<class 'str'>\n"
     ]
    }
   ],
   "source": [
    "a, b = input().split('-')\n",
    "print(a, b, sep='')\n",
    "print(type(a))"
   ]
  },
  {
   "cell_type": "code",
   "execution_count": 1,
   "id": "d2df886e",
   "metadata": {},
   "outputs": [
    {
     "name": "stdout",
     "output_type": "stream",
     "text": [
      "HELLO\n",
      "H\n",
      "E\n",
      "L\n",
      "L\n",
      "O\n"
     ]
    }
   ],
   "source": [
    "#21\n",
    "a = input()\n",
    "for i in range(len(a)):\n",
    "    print(a[i])"
   ]
  },
  {
   "cell_type": "code",
   "execution_count": 7,
   "id": "943608da",
   "metadata": {},
   "outputs": [
    {
     "name": "stdout",
     "output_type": "stream",
     "text": [
      "200304\n",
      "20 03 04\n"
     ]
    }
   ],
   "source": [
    "#22\n",
    "a = input()\n",
    "print(a[:2], a[2:4], a[4:])"
   ]
  },
  {
   "cell_type": "code",
   "execution_count": 8,
   "id": "627c1f69",
   "metadata": {},
   "outputs": [
    {
     "name": "stdout",
     "output_type": "stream",
     "text": [
      "17:23:57\n",
      "23\n"
     ]
    }
   ],
   "source": [
    "#23\n",
    "a, b, c = input().split(':')\n",
    "print(b)"
   ]
  },
  {
   "cell_type": "code",
   "execution_count": 9,
   "id": "7790b116",
   "metadata": {},
   "outputs": [
    {
     "name": "stdout",
     "output_type": "stream",
     "text": [
      "hello world\n",
      "helloworld\n"
     ]
    }
   ],
   "source": [
    "#24\n",
    "w1, w2 = input().split()\n",
    "s = w1 + w2\n",
    "print(s)"
   ]
  },
  {
   "cell_type": "code",
   "execution_count": 10,
   "id": "65ddb7ac",
   "metadata": {},
   "outputs": [
    {
     "name": "stdout",
     "output_type": "stream",
     "text": [
      "123 -123\n",
      "0\n"
     ]
    }
   ],
   "source": [
    "#25\n",
    "a, b = map(int, input().split())\n",
    "print(a+b)"
   ]
  },
  {
   "cell_type": "code",
   "execution_count": 11,
   "id": "0573794b",
   "metadata": {},
   "outputs": [
    {
     "name": "stdout",
     "output_type": "stream",
     "text": [
      "0.1\n",
      "0.9\n",
      "1.0\n"
     ]
    }
   ],
   "source": [
    "#26\n",
    "a = float(input())\n",
    "b = float(input())\n",
    "print(a+b)"
   ]
  },
  {
   "cell_type": "code",
   "execution_count": 12,
   "id": "ca404bc0",
   "metadata": {},
   "outputs": [
    {
     "name": "stdout",
     "output_type": "stream",
     "text": [
      "255\n",
      "ff\n"
     ]
    }
   ],
   "source": [
    "#27\n",
    "a = input()\n",
    "n = int(a)\n",
    "print('%x'% n)"
   ]
  },
  {
   "cell_type": "code",
   "execution_count": 13,
   "id": "e1cbdaa6",
   "metadata": {},
   "outputs": [
    {
     "name": "stdout",
     "output_type": "stream",
     "text": [
      "255\n",
      "FF\n"
     ]
    }
   ],
   "source": [
    "#28\n",
    "a = input()\n",
    "n = int(a)\n",
    "print('%X'% n)"
   ]
  },
  {
   "cell_type": "code",
   "execution_count": 16,
   "id": "d649795c",
   "metadata": {
    "scrolled": true
   },
   "outputs": [
    {
     "name": "stdout",
     "output_type": "stream",
     "text": [
      "ff\n",
      "255\n"
     ]
    }
   ],
   "source": [
    "a = input()\n",
    "n = int(a, 16)\n",
    "print(n)"
   ]
  },
  {
   "cell_type": "code",
   "execution_count": 15,
   "id": "5e49b338",
   "metadata": {},
   "outputs": [
    {
     "name": "stdout",
     "output_type": "stream",
     "text": [
      "f\n",
      "17\n"
     ]
    }
   ],
   "source": [
    "#29\n",
    "a = input()\n",
    "n = int(a, 16)      #입력된 a를 16진수로 인식해 변수 n에 저장\n",
    "print('%o' % n)     #n에 저장되어있는 값을 8진수(octal) 형태 문자열로 출력"
   ]
  },
  {
   "cell_type": "code",
   "execution_count": 1,
   "id": "dc25f826",
   "metadata": {},
   "outputs": [
    {
     "name": "stdout",
     "output_type": "stream",
     "text": [
      "A\n",
      "65\n"
     ]
    }
   ],
   "source": [
    "#30\n",
    "n = ord(input())\n",
    "print(n)"
   ]
  },
  {
   "cell_type": "code",
   "execution_count": 6,
   "id": "32e9eea3",
   "metadata": {},
   "outputs": [
    {
     "name": "stdout",
     "output_type": "stream",
     "text": [
      "65\n",
      "A\n"
     ]
    }
   ],
   "source": [
    "#31\n",
    "c = int(input())\n",
    "print(chr(c)) "
   ]
  },
  {
   "cell_type": "code",
   "execution_count": 7,
   "id": "c5877f23",
   "metadata": {},
   "outputs": [
    {
     "name": "stdout",
     "output_type": "stream",
     "text": [
      "100\n",
      "-100\n"
     ]
    }
   ],
   "source": [
    "#32\n",
    "a = int(input())\n",
    "print(-a)"
   ]
  },
  {
   "cell_type": "code",
   "execution_count": 7,
   "id": "b35597b2",
   "metadata": {},
   "outputs": [
    {
     "name": "stdout",
     "output_type": "stream",
     "text": [
      "a\n",
      "b\n"
     ]
    }
   ],
   "source": [
    "#33\n",
    "n = ord(input())\n",
    "print(chr(n+1))"
   ]
  },
  {
   "cell_type": "code",
   "execution_count": 9,
   "id": "b2e1a2bd",
   "metadata": {},
   "outputs": [
    {
     "name": "stdout",
     "output_type": "stream",
     "text": [
      "123 -123\n",
      "246\n"
     ]
    }
   ],
   "source": [
    "#34\n",
    "a, b = map(int, input().split())\n",
    "print(a - b)"
   ]
  },
  {
   "cell_type": "code",
   "execution_count": 11,
   "id": "e3cb202f",
   "metadata": {},
   "outputs": [
    {
     "name": "stdout",
     "output_type": "stream",
     "text": [
      "0.5 2.0\n",
      "1.0\n"
     ]
    }
   ],
   "source": [
    "#35\n",
    "a, b = map(float, input().split())\n",
    "print(a * b)"
   ]
  },
  {
   "cell_type": "code",
   "execution_count": 13,
   "id": "570b7a99",
   "metadata": {},
   "outputs": [
    {
     "name": "stdout",
     "output_type": "stream",
     "text": [
      "love 3\n",
      "lovelovelove\n"
     ]
    }
   ],
   "source": [
    "#36\n",
    "a, b = input().split()\n",
    "a = str(a)\n",
    "b = int(b)\n",
    "print(a*b)"
   ]
  },
  {
   "cell_type": "code",
   "execution_count": 15,
   "id": "9247a164",
   "metadata": {},
   "outputs": [
    {
     "name": "stdout",
     "output_type": "stream",
     "text": [
      "3\n",
      "I love CS\n",
      "I love CSI love CSI love CS\n"
     ]
    }
   ],
   "source": [
    "#37\n",
    "a = int(input())\n",
    "b = str(input())\n",
    "print(a*b)"
   ]
  },
  {
   "cell_type": "code",
   "execution_count": 20,
   "id": "1afcd5a8",
   "metadata": {},
   "outputs": [
    {
     "name": "stdout",
     "output_type": "stream",
     "text": [
      "2 6\n",
      "64\n"
     ]
    }
   ],
   "source": [
    "#38\n",
    "a, b = map(int, input().split())\n",
    "print(a**b)\n",
    "\n",
    "# python 언어에서는 거듭제곱을 계산하는 연산자(**)를 제공"
   ]
  },
  {
   "cell_type": "code",
   "execution_count": 21,
   "id": "7b59222a",
   "metadata": {},
   "outputs": [
    {
     "name": "stdout",
     "output_type": "stream",
     "text": [
      "4.0 2.0\n",
      "16.0\n"
     ]
    }
   ],
   "source": [
    "# 39\n",
    "a, b = map(float, input().split())\n",
    "\\print(a**b)"
   ]
  },
  {
   "cell_type": "code",
   "execution_count": 22,
   "id": "8645413b",
   "metadata": {},
   "outputs": [
    {
     "name": "stdout",
     "output_type": "stream",
     "text": [
      "10 3\n",
      "3.0\n"
     ]
    }
   ],
   "source": [
    "#40\n",
    "a, b = map(int, input().split())\n",
    "print(a//b)"
   ]
  },
  {
   "cell_type": "code",
   "execution_count": 1,
   "id": "1d119948",
   "metadata": {},
   "outputs": [
    {
     "name": "stdout",
     "output_type": "stream",
     "text": [
      "10 3\n",
      "1\n"
     ]
    }
   ],
   "source": [
    "#41\n",
    "a, b = map(int, input().split())\n",
    "print(a%b)"
   ]
  },
  {
   "cell_type": "code",
   "execution_count": 3,
   "id": "9bbb96bd",
   "metadata": {},
   "outputs": [
    {
     "name": "stdout",
     "output_type": "stream",
     "text": [
      "3.148592\n",
      "3.15\n"
     ]
    }
   ],
   "source": [
    "#42\n",
    "a= float(input())\n",
    "print( format(a, \".2f\") )"
   ]
  },
  {
   "cell_type": "code",
   "execution_count": 1,
   "id": "0d00ccfc",
   "metadata": {},
   "outputs": [
    {
     "name": "stdout",
     "output_type": "stream",
     "text": [
      "10.0 3.0\n",
      "3.333\n"
     ]
    }
   ],
   "source": [
    "#43\n",
    "a, b = map(float, input().split())\n",
    "print( format(a/b, \".3f\"))"
   ]
  },
  {
   "cell_type": "code",
   "execution_count": 2,
   "id": "e38a70a8",
   "metadata": {},
   "outputs": [
    {
     "name": "stdout",
     "output_type": "stream",
     "text": [
      "10 3\n",
      "13\n",
      "7\n",
      "30\n",
      "3\n",
      "1\n",
      "3.33\n"
     ]
    }
   ],
   "source": [
    "#44\n",
    "a, b = map(int, input().split())\n",
    "if b != 0:\n",
    "    print(a+b)\n",
    "    print(a-b)\n",
    "    print(a*b)\n",
    "    print(a//b)\n",
    "    print(a%b)\n",
    "    print( format(a/b, \".2f\"))"
   ]
  },
  {
   "cell_type": "code",
   "execution_count": 3,
   "id": "93788f78",
   "metadata": {},
   "outputs": [
    {
     "name": "stdout",
     "output_type": "stream",
     "text": [
      "1 2 3\n",
      "6 2.00\n"
     ]
    }
   ],
   "source": [
    "#45\n",
    "a, b, c = map(int, input().split())\n",
    "total = a+b+c\n",
    "print(total, format(total/3, \".2f\"))"
   ]
  },
  {
   "cell_type": "code",
   "execution_count": 4,
   "id": "e8da0db1",
   "metadata": {},
   "outputs": [
    {
     "name": "stdout",
     "output_type": "stream",
     "text": [
      "10\n",
      "20\n"
     ]
    }
   ],
   "source": [
    "#46\n",
    "a = int(input())\n",
    "print(a<<1)"
   ]
  },
  {
   "cell_type": "code",
   "execution_count": 5,
   "id": "0352fb64",
   "metadata": {},
   "outputs": [
    {
     "name": "stdout",
     "output_type": "stream",
     "text": [
      "1 3\n",
      "8\n"
     ]
    }
   ],
   "source": [
    "#47 정수 2개(a, b)를 입력받아 a를 2b배 곱한 값으로 출력해보자.\n",
    "a, b = map(int, input().split())\n",
    "print(a<<b)"
   ]
  },
  {
   "cell_type": "code",
   "execution_count": 7,
   "id": "b3e9c58d",
   "metadata": {},
   "outputs": [
    {
     "name": "stdout",
     "output_type": "stream",
     "text": [
      "5 5\n",
      "False\n"
     ]
    }
   ],
   "source": [
    "# 48 두 정수(a, b)를 입력받아 a가 b보다 작으면 True 를, a가 b보다 크거나 같으면 False 를 출력하는 프로그램을 작성해보자.\n",
    "a, b = map(int, input().split())\n",
    "if a < b:\n",
    "    print(True)\n",
    "else:\n",
    "    print(False)"
   ]
  },
  {
   "cell_type": "code",
   "execution_count": 9,
   "id": "6dc65cab",
   "metadata": {},
   "outputs": [
    {
     "name": "stdout",
     "output_type": "stream",
     "text": [
      "5 5\n",
      "False\n"
     ]
    }
   ],
   "source": [
    "# 48 이게 더 정답....\n",
    "a, b = map(int, input().split())\n",
    "print( a < b )"
   ]
  },
  {
   "cell_type": "code",
   "execution_count": 11,
   "id": "1246f699",
   "metadata": {},
   "outputs": [
    {
     "name": "stdout",
     "output_type": "stream",
     "text": [
      "5 9\n",
      "False\n"
     ]
    }
   ],
   "source": [
    "# 49 두 정수(a, b)를 입력받아 a와 b의 값이 같으면 True 를, 같지 않으면 False 를 출력하는 프로그램을 작성해보자.\n",
    "\n",
    "a, b = map(int, input().split())\n",
    "print(a==b)"
   ]
  },
  {
   "cell_type": "code",
   "execution_count": 12,
   "id": "67454897",
   "metadata": {},
   "outputs": [
    {
     "name": "stdout",
     "output_type": "stream",
     "text": [
      "5 5\n",
      "True\n"
     ]
    }
   ],
   "source": [
    "# 50 두 정수(a, b)를 입력받아 b의 값이 a의 값 보다 크거나 같으면 True 를, 같지 않으면 False 를 출력하는 프로그램을 작성해보자.\n",
    "\n",
    "a, b = map(int, input().split())\n",
    "print(b>=a)"
   ]
  },
  {
   "cell_type": "code",
   "execution_count": 13,
   "id": "b8022306",
   "metadata": {},
   "outputs": [
    {
     "name": "stdout",
     "output_type": "stream",
     "text": [
      "5 8\n",
      "True\n"
     ]
    }
   ],
   "source": [
    "# 51 두 정수(a, b)를 입력받아 a의 값이 b의 값과 서로 다르면 True 를, 같으면 False 를 출력하는 프로그램을 작성해보자.\n",
    "\n",
    "a, b = map(int, input().split())\n",
    "print( a != b )"
   ]
  },
  {
   "cell_type": "code",
   "execution_count": 17,
   "id": "cb809880",
   "metadata": {},
   "outputs": [
    {
     "name": "stdout",
     "output_type": "stream",
     "text": [
      "7\n",
      "True\n"
     ]
    }
   ],
   "source": [
    "# 52 정수가 입력되었을 때, True/False 로 평가해주는 프로그램을 작성해보자.\n",
    "### 틀렸음\n",
    "a = int(input())\n",
    "print(type(a) == int)"
   ]
  },
  {
   "cell_type": "code",
   "execution_count": 19,
   "id": "f332d9d5",
   "metadata": {},
   "outputs": [
    {
     "name": "stdout",
     "output_type": "stream",
     "text": [
      "3\n",
      "True\n"
     ]
    }
   ],
   "source": [
    "# 52\n",
    "n = int(input())\n",
    "print(bool(n))"
   ]
  },
  {
   "cell_type": "code",
   "execution_count": 21,
   "id": "3bd2b299",
   "metadata": {},
   "outputs": [
    {
     "name": "stdout",
     "output_type": "stream",
     "text": [
      "6\n",
      "False\n",
      "0\n",
      "True\n"
     ]
    }
   ],
   "source": [
    "# 53 정수값이 입력될 때, 그 불 값을 반대로 출력하는 프로그램을 작성해보자.\n",
    "\n",
    "n = int(input())\n",
    "print(not bool(n))\n",
    "\n",
    "# 다른 풀이\n",
    "a = bool(int(input()))\n",
    "print(not a)"
   ]
  },
  {
   "cell_type": "code",
   "execution_count": 27,
   "id": "8e9add9b",
   "metadata": {},
   "outputs": [
    {
     "name": "stdout",
     "output_type": "stream",
     "text": [
      "0 4\n",
      "False\n"
     ]
    }
   ],
   "source": [
    "#54 2개의 정수값이 입력될 때, 그 불 값이 모두 True 일 때에만 True 를 출력하는 프로그램을 작성해보자.\n",
    "\n",
    "a, b = map(int, input().split())\n",
    "\n",
    "print(bool(a) and bool(b))"
   ]
  },
  {
   "cell_type": "code",
   "execution_count": 29,
   "id": "d73e6e80",
   "metadata": {},
   "outputs": [
    {
     "name": "stdout",
     "output_type": "stream",
     "text": [
      "1 0\n",
      "True\n"
     ]
    }
   ],
   "source": [
    "# 55 2개의 정수값이 입력될 때,그 불 값이 하나라도 True 일 때에만 True 를 출력하는 프로그램을 작성해보자\n",
    "\n",
    "a, b = map(int, input().split())\n",
    "print(bool(a) or bool(b))"
   ]
  },
  {
   "cell_type": "code",
   "execution_count": 3,
   "id": "81af935b",
   "metadata": {},
   "outputs": [
    {
     "name": "stdout",
     "output_type": "stream",
     "text": [
      "1 1\n",
      "False\n"
     ]
    }
   ],
   "source": [
    "# 56 2개의 정수값이 입력될 때, 그 불 값(True/False) 이 서로 다를 때에만 True 를 출력하는 프로그램을 작성해보자.\n",
    "\n",
    "a, b = map(int, input().split())\n",
    "if bool(a) != bool(b):\n",
    "    print(True)\n",
    "else:\n",
    "    print(False)"
   ]
  },
  {
   "cell_type": "code",
   "execution_count": 10,
   "id": "83314397",
   "metadata": {},
   "outputs": [
    {
     "name": "stdout",
     "output_type": "stream",
     "text": [
      "1 0\n",
      "True\n"
     ]
    }
   ],
   "source": [
    "# 56 정확한 풀이\n",
    "\n",
    "a, b = input().split()\n",
    "c = bool(int(a))\n",
    "d = bool(int(b))\n",
    "print((c and (not d)) or ((not c) and d))"
   ]
  },
  {
   "cell_type": "code",
   "execution_count": 16,
   "id": "007ee6a1",
   "metadata": {},
   "outputs": [
    {
     "name": "stdout",
     "output_type": "stream",
     "text": [
      "0 0\n",
      "True\n"
     ]
    }
   ],
   "source": [
    "# 57 2개의 정수값이 입력될 때,그 불 값(True/False) 이 서로 같을 때에만 True 를 출력하는 프로그램을 작성해보자.\n",
    "# 어려웠던 문제 !!\n",
    "\n",
    "a, b = input().split()\n",
    "c = bool(int(a))\n",
    "d = bool(int(b))\n",
    "print(c == d)"
   ]
  },
  {
   "cell_type": "code",
   "execution_count": 2,
   "id": "290ab29d",
   "metadata": {},
   "outputs": [
    {
     "name": "stdout",
     "output_type": "stream",
     "text": [
      "0 0\n",
      "True\n"
     ]
    }
   ],
   "source": [
    "# 58 2개의 정수값이 입력될 때, 그 불 값(True/False) 이 모두 False 일 때에만 True 를 출력하는 프로그램을 작성해보자.\n",
    "\n",
    "a, b = input().split()\n",
    "c = bool(int(a))\n",
    "d = bool(int(b))\n",
    "if ((c == False) and (d == False)):\n",
    "    print(True)\n",
    "else:\n",
    "    print(False)"
   ]
  },
  {
   "cell_type": "code",
   "execution_count": 4,
   "id": "66510c29",
   "metadata": {},
   "outputs": [
    {
     "name": "stdout",
     "output_type": "stream",
     "text": [
      "2\n",
      "-3\n"
     ]
    }
   ],
   "source": [
    "#59 \n",
    "# 입력 된 정수를 비트단위로 참/거짓을 바꾼 후 정수로 출력해보자. \n",
    "# 비트단위(bitwise)연산자 ~ 를 붙이면 된다.(~ : tilde, 틸드라고 읽는다.)\n",
    "\n",
    "a = int(input())\n",
    "print(~a)"
   ]
  },
  {
   "cell_type": "code",
   "execution_count": 5,
   "id": "ea0b2b5d",
   "metadata": {},
   "outputs": [
    {
     "name": "stdout",
     "output_type": "stream",
     "text": [
      "3 5\n",
      "1\n"
     ]
    }
   ],
   "source": [
    "# 60\n",
    "# 입력된 정수 두 개를 비트단위로 and 연산한 후 그 결과를 정수로 출력해보자.\n",
    "# 비트단위(bitwise)연산자 &를 사용하면 된다.(and, ampersand, 앰퍼센드라고 읽는다.)\n",
    "\n",
    "a, b = map(int, input().split())\n",
    "print(a&b)"
   ]
  },
  {
   "cell_type": "code",
   "execution_count": 7,
   "id": "259da502",
   "metadata": {},
   "outputs": [
    {
     "name": "stdout",
     "output_type": "stream",
     "text": [
      "3 5\n",
      "7\n"
     ]
    }
   ],
   "source": [
    "# 61\n",
    "# 입력된 정수 두 개를 비트단위로 or 연산한 후 그 결과를 정수로 출력해보자.\n",
    "# 비트단위(bitwise) 연산자 |(or, vertical bar, 버티컬바)를 사용하면 된다.\n",
    "\n",
    "a, b = map(int, input().split())\n",
    "print(a|b)"
   ]
  },
  {
   "cell_type": "code",
   "execution_count": 8,
   "id": "4c5daf09",
   "metadata": {},
   "outputs": [
    {
     "name": "stdout",
     "output_type": "stream",
     "text": [
      "3 5\n",
      "6\n"
     ]
    }
   ],
   "source": [
    "# 62\n",
    "# 입력된 정수 두 개를 비트단위로 xor 연산한 후 그 결과를 정수로 출력해보자.\n",
    "# 비트단위(bitwise) 연산자 ^(xor, circumflex/caret, 서컴플렉스/카릿)를 사용하면 된다.\n",
    "\n",
    "a, b = map(int, input().split())\n",
    "print(a^b)"
   ]
  },
  {
   "cell_type": "code",
   "execution_count": 9,
   "id": "1bfee758",
   "metadata": {},
   "outputs": [
    {
     "name": "stdout",
     "output_type": "stream",
     "text": [
      "123 456\n",
      "456\n"
     ]
    }
   ],
   "source": [
    "# 63\n",
    "# 입력된 두 정수(a, b) 중 큰 값을 출력하는 프로그램을 작성해보자.\n",
    "# 단, 3항 연산을 사용한다.\n",
    "\n",
    "a, b = map(int, input().split())\n",
    "c = (a if (a>=b) else b)\n",
    "print(int(c))"
   ]
  },
  {
   "cell_type": "code",
   "execution_count": 11,
   "id": "dfe39280",
   "metadata": {},
   "outputs": [
    {
     "name": "stdout",
     "output_type": "stream",
     "text": [
      "3 -1 5\n",
      "-1\n"
     ]
    }
   ],
   "source": [
    "# 64\n",
    "# 입력된 세 정수 a, b, c 중 가장 작은 값을 출력하는 프로그램을 작성해보자.\n",
    "# 단, 3항 연산을 사용한다.\n",
    "\n",
    "a, b, c = map(int, input().split())\n",
    "d = (a if (a<=b) else b)\n",
    "d = (d if (d<=c) else c)\n",
    "print(d)\n",
    "\n",
    "# 64 번 가서 3항 연산 제대로 이해하기!!!!!!!!!!!!!"
   ]
  },
  {
   "cell_type": "code",
   "execution_count": 15,
   "id": "4ba4eefb",
   "metadata": {},
   "outputs": [
    {
     "name": "stdout",
     "output_type": "stream",
     "text": [
      "1 2 4\n",
      "2\n",
      "4\n"
     ]
    }
   ],
   "source": [
    "# 65\n",
    "# 3개의 정수(a, b, c)가 입력되었을 때, 짝수만 출력해보자.\n",
    "\n",
    "a, b, c = map(int, input().split())\n",
    "if a % 2 == 0:\n",
    "    print(a)\n",
    "if b % 2 == 0:\n",
    "    print(b)\n",
    "if c % 2 == 0:\n",
    "    print(c)"
   ]
  },
  {
   "cell_type": "code",
   "execution_count": 16,
   "id": "32457b67",
   "metadata": {},
   "outputs": [
    {
     "name": "stdout",
     "output_type": "stream",
     "text": [
      "1 2 8\n",
      "odd\n",
      "even\n",
      "even\n"
     ]
    }
   ],
   "source": [
    "# 66\n",
    "# 3개의 정수(a, b, c)가 입력되었을 때, 짝(even)/홀(odd)을 출력해보자.\n",
    "\n",
    "a, b, c = map(int, input().split())\n",
    "if a % 2 == 0:\n",
    "    print('even')\n",
    "else:\n",
    "    print('odd')\n",
    "if b % 2 == 0:\n",
    "    print('even')\n",
    "else:\n",
    "    print('odd')\n",
    "if c % 2 == 0:\n",
    "    print('even')\n",
    "else:\n",
    "    print('odd')"
   ]
  },
  {
   "cell_type": "code",
   "execution_count": 20,
   "id": "54437cec",
   "metadata": {},
   "outputs": [
    {
     "name": "stdout",
     "output_type": "stream",
     "text": [
      "-2147483648\n",
      "A\n"
     ]
    }
   ],
   "source": [
    "# 67\n",
    "# 0이 아닌 정수 1개가 입력되었을 때, 음(-)/양(+)과 짝(even)/홀(odd)을 구분해 분류해보자.\n",
    "\n",
    "a = int(input())\n",
    "if a<0:\n",
    "    if a%2 ==0:\n",
    "        print('A')\n",
    "    else:\n",
    "        print('B')\n",
    "else:\n",
    "    if a%2 ==0:\n",
    "        print('C')\n",
    "    else:\n",
    "        print('D')"
   ]
  },
  {
   "cell_type": "code",
   "execution_count": 21,
   "id": "f840eb8e",
   "metadata": {},
   "outputs": [
    {
     "name": "stdout",
     "output_type": "stream",
     "text": [
      "73\n",
      "B\n"
     ]
    }
   ],
   "source": [
    "# 68\n",
    "# 점수(정수, 0 ~ 100)를 입력받아 평가를 출력해보자.\n",
    "\n",
    "#평가 기준\n",
    "#점수 범위 : 평가\n",
    "#90 ~ 100 : A\n",
    "#70 ~   89 : B\n",
    "#40 ~   69 : C\n",
    "#0 ~   39 : D\n",
    "\n",
    "score = int(input())\n",
    "if score >= 90:\n",
    "    print('A')\n",
    "elif score >= 70:\n",
    "    print('B')\n",
    "elif score >= 40:\n",
    "    print('C')\n",
    "else:\n",
    "    print('D')\n",
    "    "
   ]
  },
  {
   "cell_type": "code",
   "execution_count": 24,
   "id": "e328cd6e",
   "metadata": {},
   "outputs": [
    {
     "name": "stdout",
     "output_type": "stream",
     "text": [
      "a\n",
      "what?\n"
     ]
    }
   ],
   "source": [
    "# 69\n",
    "\n",
    "message = input()\n",
    "if message == 'A':\n",
    "    print('best!!!')\n",
    "elif message == 'B':\n",
    "    print('good!!')\n",
    "elif message == 'C':\n",
    "    print('run!')\n",
    "elif message == 'D':\n",
    "    print('slowly~')\n",
    "else:\n",
    "    print('what?')"
   ]
  },
  {
   "cell_type": "code",
   "execution_count": 30,
   "id": "afb90e4a",
   "metadata": {},
   "outputs": [
    {
     "name": "stdout",
     "output_type": "stream",
     "text": [
      "10\n",
      "fall\n"
     ]
    }
   ],
   "source": [
    "#70 월이 입력될 때 계절 출력, 몫을 이용한 풀이는 신박했다.\n",
    "\n",
    "a = int(input())\n",
    "if a // 3 == 1:\n",
    "    print('spring')\n",
    "elif a // 3 == 2:\n",
    "    print('summer')\n",
    "elif a // 3 ==3:\n",
    "    print('fall')\n",
    "elif a in (12, 1, 2):\n",
    "    print('winter')"
   ]
  },
  {
   "cell_type": "code",
   "execution_count": 31,
   "id": "34635abd",
   "metadata": {},
   "outputs": [
    {
     "name": "stdout",
     "output_type": "stream",
     "text": [
      "7\n",
      "7\n",
      "4\n",
      "4\n",
      "2\n",
      "2\n",
      "3\n",
      "3\n",
      "0\n"
     ]
    }
   ],
   "source": [
    "# 71\n",
    "\n",
    "while True:\n",
    "    a = int(input())\n",
    "    if a == 0:\n",
    "        break\n",
    "    else:\n",
    "        print(a)"
   ]
  },
  {
   "cell_type": "code",
   "execution_count": 33,
   "id": "26cd848e",
   "metadata": {},
   "outputs": [
    {
     "name": "stdout",
     "output_type": "stream",
     "text": [
      "5\n",
      "5\n",
      "4\n",
      "3\n",
      "2\n",
      "1\n"
     ]
    }
   ],
   "source": [
    "# 72 정수(1 ~ 100) 1개가 입력되었을 때 카운트다운을 출력해보자.\n",
    "\n",
    "a = int(input())\n",
    "while a!=0:\n",
    "    print(a)\n",
    "    a -= 1"
   ]
  },
  {
   "cell_type": "code",
   "execution_count": 35,
   "id": "38b32e29",
   "metadata": {
    "scrolled": true
   },
   "outputs": [
    {
     "name": "stdout",
     "output_type": "stream",
     "text": [
      "5\n",
      "4\n",
      "3\n",
      "2\n",
      "1\n",
      "0\n"
     ]
    }
   ],
   "source": [
    "# 73 1만큼씩 줄이면서 카운트다운 수가 0이 될 때까지 한 줄에 1개씩 출력한다.\n",
    "\n",
    "a = int(input())\n",
    "while a != 0:\n",
    "    print(a-1)\n",
    "    a -= 1"
   ]
  },
  {
   "cell_type": "code",
   "execution_count": 42,
   "id": "09917d49",
   "metadata": {},
   "outputs": [
    {
     "data": {
      "text/plain": [
       "98"
      ]
     },
     "execution_count": 42,
     "metadata": {},
     "output_type": "execute_result"
    }
   ],
   "source": [
    "ord('b')"
   ]
  },
  {
   "cell_type": "code",
   "execution_count": 51,
   "id": "d3b04a8f",
   "metadata": {},
   "outputs": [
    {
     "name": "stdout",
     "output_type": "stream",
     "text": [
      "d\n",
      "a\n",
      "b\n",
      "c\n",
      "d\n"
     ]
    }
   ],
   "source": [
    "# 74 영문 소문자(a ~ z) 1개가 입력되었을 때, a부터 그 문자까지의 알파벳을 순서대로 출력해보자.\n",
    "# 어려웠던 문제...\n",
    "\n",
    "inputalpha = ord(input())\n",
    "start = ord('a')\n",
    "while start <= inputalpha:\n",
    "    print(chr(start))\n",
    "    start += 1"
   ]
  },
  {
   "cell_type": "code",
   "execution_count": 53,
   "id": "6bd73e37",
   "metadata": {},
   "outputs": [
    {
     "name": "stdout",
     "output_type": "stream",
     "text": [
      "5\n",
      "0\n",
      "1\n",
      "2\n",
      "3\n",
      "4\n",
      "5\n"
     ]
    }
   ],
   "source": [
    "# 75 정수(0 ~ 100) 1개를 입력받아 0부터 그 수까지 순서대로 출력해보자.\n",
    "\n",
    "inputNum = int(input())\n",
    "printNum = 0\n",
    "while printNum <= inputNum :\n",
    "    print(printNum)\n",
    "    printNum += 1"
   ]
  },
  {
   "cell_type": "code",
   "execution_count": 55,
   "id": "ebd9aeae",
   "metadata": {},
   "outputs": [
    {
     "name": "stdout",
     "output_type": "stream",
     "text": [
      "5\n",
      "0\n",
      "1\n",
      "2\n",
      "3\n",
      "4\n",
      "5\n"
     ]
    }
   ],
   "source": [
    "# 76 정수(0 ~ 100) 1개를 입력받아 0부터 그 수까지 순서대로 출력해보자.\n",
    "\n",
    "inputNum = int(input())\n",
    "for i in range(inputNum+1):\n",
    "    print(i)"
   ]
  },
  {
   "cell_type": "code",
   "execution_count": 60,
   "id": "027c9e7e",
   "metadata": {},
   "outputs": [
    {
     "name": "stdout",
     "output_type": "stream",
     "text": [
      "5\n",
      "6\n"
     ]
    }
   ],
   "source": [
    "# 77 정수(1 ~ 100) 1개를 입력받아 1부터 그 수까지 짝수의 합을 구해보자.\n",
    "\n",
    "inputNum = int(input())\n",
    "total = 0\n",
    "for i in range(1, inputNum+1):\n",
    "    if i % 2 == 0:\n",
    "        total += i\n",
    "print(total)"
   ]
  },
  {
   "cell_type": "code",
   "execution_count": 62,
   "id": "7d0da363",
   "metadata": {},
   "outputs": [
    {
     "name": "stdout",
     "output_type": "stream",
     "text": [
      "q\n",
      "q\n"
     ]
    }
   ],
   "source": [
    "# 78 영문 소문자 'q'가 입력될 때까지 입력한 문자를 계속 출력하는 프로그램을 작성해보자.\n",
    "\n",
    "while True:\n",
    "    k = input()\n",
    "    print(k)\n",
    "    if k == 'q':\n",
    "        break"
   ]
  },
  {
   "cell_type": "code",
   "execution_count": 71,
   "id": "fc4ed6c0",
   "metadata": {},
   "outputs": [
    {
     "name": "stdout",
     "output_type": "stream",
     "text": [
      "55\n",
      "10\n"
     ]
    }
   ],
   "source": [
    "# 79 1, 2, 3 ... 을 계속 더해 나갈 때, 그 합이 입력한 정수(0 ~ 1000)보다 같거나 작을 때까지만 계속 더하는 프로그램을 작성해보자.\n",
    "# 약간 헷갈렸음\n",
    "\n",
    "ans = int(input())\n",
    "total = 0\n",
    "sumNum = 1\n",
    "\n",
    "while True:\n",
    "    total += sumNum\n",
    "    if total >= ans:\n",
    "        break\n",
    "    else:\n",
    "        sumNum += 1\n",
    "    \n",
    "print(sumNum)"
   ]
  },
  {
   "cell_type": "code",
   "execution_count": 72,
   "id": "a4330c0d",
   "metadata": {},
   "outputs": [
    {
     "name": "stdout",
     "output_type": "stream",
     "text": [
      "2 3\n",
      "1 1\n",
      "1 2\n",
      "1 3\n",
      "2 1\n",
      "2 2\n",
      "2 3\n"
     ]
    }
   ],
   "source": [
    "#80 1부터 n까지, 1부터 m까지 숫자가 적힌 서로 다른 주사위 2개를 던졌을 때, 나올 수 있는 모든 경우를 출력해보자.\n",
    "\n",
    "a, b = map(int, input().split())\n",
    "for i in range(1, a+1):\n",
    "    for k in range(1, b+1):\n",
    "        print(i,k)"
   ]
  },
  {
   "cell_type": "code",
   "execution_count": 79,
   "id": "29f44dca",
   "metadata": {},
   "outputs": [
    {
     "name": "stdout",
     "output_type": "stream",
     "text": [
      "B\n",
      "B*1=B\n",
      "B*2=16\n",
      "B*3=21\n",
      "B*4=2C\n",
      "B*5=37\n",
      "B*6=42\n",
      "B*7=4D\n",
      "B*8=58\n",
      "B*9=63\n",
      "B*A=6E\n",
      "B*B=79\n",
      "B*C=84\n",
      "B*D=8F\n",
      "B*E=9A\n",
      "B*F=A5\n"
     ]
    }
   ],
   "source": [
    "# 81 \n",
    "# A, B, C, D, E, F 중 하나가 입력될 때, 1부터 F까지 곱한 16진수 구구단의 내용을 출력해보자.\n",
    "# (단, A ~ F 까지만 입력된다.)\n",
    "# 너무 어렵다..........\n",
    "\n",
    "a = input()\n",
    "n = int(a, 16)\n",
    "for i in range(1, 16):\n",
    "    print('%X*%X=%X' % (n, i, n*i))"
   ]
  },
  {
   "cell_type": "code",
   "execution_count": 95,
   "id": "9e903e37",
   "metadata": {},
   "outputs": [
    {
     "name": "stdout",
     "output_type": "stream",
     "text": [
      "9\n",
      "1\n",
      "2\n",
      "X\n",
      "4\n",
      "5\n",
      "X\n",
      "7\n",
      "8\n",
      "X\n"
     ]
    }
   ],
   "source": [
    "# 82\n",
    "\n",
    "# 내 풀이) 숫자를 str으로 바꿔서 리스트에 3, 6, 9가 있는 만큼 출력\n",
    "\n",
    "k = int(input())\n",
    "for i in range(1, k+1):\n",
    "    countX = 0\n",
    "    stri = str(i)\n",
    "    \n",
    "    for eachi in stri:\n",
    "        if eachi in ('3', '6', '9'):\n",
    "            countX += 1\n",
    "    \n",
    "    if countX == 0:\n",
    "        print(i)\n",
    "    else:\n",
    "        print('X'*countX)"
   ]
  },
  {
   "cell_type": "code",
   "execution_count": 99,
   "id": "2ffe1a1f",
   "metadata": {},
   "outputs": [
    {
     "name": "stdout",
     "output_type": "stream",
     "text": [
      "2 2 2\n",
      "0 0 0\n",
      "0 0 1\n",
      "0 1 0\n",
      "0 1 1\n",
      "1 0 0\n",
      "1 0 1\n",
      "1 1 0\n",
      "1 1 1\n",
      "8\n"
     ]
    }
   ],
   "source": [
    "# 83\n",
    "\n",
    "r, g, b = map(int, input().split())\n",
    "\n",
    "for R in range(r):\n",
    "    for G in range(g):\n",
    "        for B in range(b):\n",
    "            print('%i %i %i' % (R, G, B))\n",
    "\n",
    "print(r*g*b)"
   ]
  },
  {
   "cell_type": "code",
   "execution_count": 102,
   "id": "99b3749f",
   "metadata": {},
   "outputs": [
    {
     "name": "stdout",
     "output_type": "stream",
     "text": [
      "44100 16 2 10\n",
      "1.7 MB\n"
     ]
    }
   ],
   "source": [
    "# 84\n",
    "\n",
    "h, b, c, s = map(int, input().split())\n",
    "bit = h*b*c*s\n",
    "MB = bit/8/1024/1024\n",
    "print('%.1f MB' % MB)"
   ]
  },
  {
   "cell_type": "code",
   "execution_count": 103,
   "id": "b188515a",
   "metadata": {},
   "outputs": [
    {
     "name": "stdout",
     "output_type": "stream",
     "text": [
      "1024 768 24\n",
      "2.25 MB\n"
     ]
    }
   ],
   "source": [
    "# 85\n",
    "# bit -> byte(/8) -> KB (/1024) -> MB (/1024) -> GM (/1024)\n",
    "\n",
    "w, h, b = map(int, input().split())\n",
    "bit = w*h*b\n",
    "MB = bit/8/1024/1024\n",
    "print('%.2f MB' % MB)"
   ]
  },
  {
   "cell_type": "code",
   "execution_count": 104,
   "id": "3f6771be",
   "metadata": {},
   "outputs": [
    {
     "name": "stdout",
     "output_type": "stream",
     "text": [
      "57\n",
      "66\n"
     ]
    }
   ],
   "source": [
    "# 86\n",
    "\n",
    "# 1, 2, 3 ... 을 계속 더해 나갈 때, 1, 2, 3, 4, 5 ... 순서대로 계속 더해가다가, \n",
    "# 그 합이 입력된 정수보다 커지거나 같아지는 경우, 그때까지의 합을 출력한다.\n",
    "\n",
    "ans = int(input())\n",
    "total = 0\n",
    "sumNum = 1\n",
    "\n",
    "while True:\n",
    "    total += sumNum\n",
    "    if total >= ans:\n",
    "        break\n",
    "    else:\n",
    "        sumNum += 1\n",
    "    \n",
    "print(total)"
   ]
  },
  {
   "cell_type": "code",
   "execution_count": 109,
   "id": "f6b703fd",
   "metadata": {},
   "outputs": [
    {
     "name": "stdout",
     "output_type": "stream",
     "text": [
      "10\n",
      "1 2 4 5 7 8 10 "
     ]
    }
   ],
   "source": [
    "# 87\n",
    "# 1부터 입력한 정수까지 1씩 증가시켜 출력하는 프로그램을 작성하되,3의 배수인 경우는 출력하지 않도록 만들어보자.\n",
    "\n",
    "final = int(input())\n",
    "num = 0\n",
    "while num <= final:\n",
    "    if num % 3 != 0:\n",
    "        print(num, end=' ')\n",
    "    num += 1"
   ]
  },
  {
   "cell_type": "code",
   "execution_count": 114,
   "id": "3b43d93c",
   "metadata": {},
   "outputs": [
    {
     "name": "stdout",
     "output_type": "stream",
     "text": [
      "1 3 9\n",
      "25\n"
     ]
    }
   ],
   "source": [
    "# 88 등차수열\n",
    "\n",
    "a, d, n = map(int, input().split())\n",
    "numlist = []\n",
    "while len(numlist) != n:\n",
    "    numlist.append(a)\n",
    "    a += d\n",
    "print(numlist[n-1])"
   ]
  },
  {
   "cell_type": "code",
   "execution_count": 119,
   "id": "83e9248c",
   "metadata": {},
   "outputs": [
    {
     "name": "stdout",
     "output_type": "stream",
     "text": [
      "1 3 9\n",
      "25\n"
     ]
    }
   ],
   "source": [
    "# 88 등차수열\n",
    "\n",
    "a, d, n = map(int, input().split())\n",
    "for i in range(n-1):\n",
    "    a += d\n",
    "print(a)"
   ]
  },
  {
   "cell_type": "code",
   "execution_count": 115,
   "id": "70745df7",
   "metadata": {},
   "outputs": [
    {
     "name": "stdout",
     "output_type": "stream",
     "text": [
      "2 3 7\n",
      "1458\n"
     ]
    }
   ],
   "source": [
    "# 89 등비수열\n",
    "\n",
    "a, r, n = map(int, input().split())\n",
    "numlist = []\n",
    "while len(numlist) != n:\n",
    "    numlist.append(a)\n",
    "    a = a*r\n",
    "print(numlist[n-1])"
   ]
  },
  {
   "cell_type": "code",
   "execution_count": 117,
   "id": "dd55dc93",
   "metadata": {},
   "outputs": [
    {
     "name": "stdout",
     "output_type": "stream",
     "text": [
      "2 3 7\n",
      "1458\n"
     ]
    }
   ],
   "source": [
    "# 89 등비수열\n",
    "\n",
    "a, r, n = map(int, input().split())\n",
    "for i in range(n-1):\n",
    "    a = a*r\n",
    "print(a)"
   ]
  },
  {
   "cell_type": "code",
   "execution_count": 121,
   "id": "70704f21",
   "metadata": {},
   "outputs": [
    {
     "name": "stdout",
     "output_type": "stream",
     "text": [
      "1 -2 1 8\n",
      "-85\n"
     ]
    }
   ],
   "source": [
    "# 90\n",
    "\n",
    "a, m, d, n = map(int, input().split())\n",
    "\n",
    "for i in range(n-1):\n",
    "    a = a*m+d\n",
    "\n",
    "print(a)"
   ]
  },
  {
   "cell_type": "code",
   "execution_count": 123,
   "id": "2f41bc48",
   "metadata": {},
   "outputs": [
    {
     "name": "stdout",
     "output_type": "stream",
     "text": [
      "2 4 8\n",
      "8\n"
     ]
    }
   ],
   "source": [
    "# 91\n",
    "# 같은 날 동시에 가입한 인원 3명이 규칙적으로 방문하는, 방문 주기가 공백을 두고 입력된다. (단, 입력값은 100이하의 자연수이다.)\n",
    "# 중요한듯 !!!!\n",
    "\n",
    "a, b, c = map(int, input().split())\n",
    "d = 1\n",
    "while (d%a!=0) or (d%b!=0) or (d%c!=0) :\n",
    "    d += 1\n",
    "print(d)"
   ]
  },
  {
   "cell_type": "code",
   "execution_count": 127,
   "id": "90073fbd",
   "metadata": {},
   "outputs": [
    {
     "name": "stdout",
     "output_type": "stream",
     "text": [
      "10\n",
      "1 3 2 2 5 6 7 4 5 23\n",
      "0 1 2 1 1 2 1 1 0 0 0 0 0 0 0 0 0 0 0 0 0 0 0 1 "
     ]
    }
   ],
   "source": [
    "# 92\n",
    "\n",
    "# 첫 번째 줄에 출석 번호를 부른 횟수인 정수 n이 입력된다. (1 ~ 10000)\n",
    "# 두 번째 줄에는 무작위로 부른 n개의 번호(1 ~ 23)가 공백을 두고 순서대로 입력된다.\n",
    "# 1번부터 번호가 불린 횟수를 순서대로 공백으로 구분하여 한 줄로 출력한다.\n",
    "# 공부 지대로 하자!!!\n",
    "\n",
    "n = int(input())\n",
    "a = input().split()\n",
    "\n",
    "for i in range(n):\n",
    "    a[i] = int(a[i])\n",
    "\n",
    "d = []\n",
    "for i in range(24):\n",
    "    d.append(0)\n",
    "\n",
    "for i in range(n):\n",
    "    d[a[i]] += 1\n",
    "\n",
    "for i in range(1, 24):\n",
    "    print(d[i], end=' ')\n",
    "    \n",
    "# 애초에 d[0] 있으나 짜르고 d[1]부터 출력하는 것"
   ]
  },
  {
   "cell_type": "code",
   "execution_count": 130,
   "id": "3f67103a",
   "metadata": {},
   "outputs": [
    {
     "name": "stdout",
     "output_type": "stream",
     "text": [
      "10\n",
      "10 4 2 3 6 6 7 9 8 5\n",
      "5 8 9 7 6 6 3 2 4 10 "
     ]
    }
   ],
   "source": [
    "# 93\n",
    "n = int(input())\n",
    "a = input().split()\n",
    "for i in range(1, n+1):\n",
    "    print(a[-i], end=' ')"
   ]
  },
  {
   "cell_type": "code",
   "execution_count": 133,
   "id": "a859cfc8",
   "metadata": {},
   "outputs": [
    {
     "name": "stdout",
     "output_type": "stream",
     "text": [
      "10\n",
      "10 4 2 3 6 6 7 9 -3 -5\n",
      "-5\n"
     ]
    }
   ],
   "source": [
    "# 94\n",
    "\n",
    "n = int(input())\n",
    "a = input().split()\n",
    "\n",
    "for i in range(n):\n",
    "    a[i] = int(a[i])\n",
    "\n",
    "print(min(a))"
   ]
  },
  {
   "cell_type": "code",
   "execution_count": 2,
   "id": "b2ac1f62",
   "metadata": {},
   "outputs": [
    {
     "name": "stdout",
     "output_type": "stream",
     "text": [
      "5\n",
      "1 1\n",
      "2 2\n",
      "3 3\n",
      "4 4\n",
      "5 5\n",
      "1 0 0 0 0 0 0 0 0 0 0 0 0 0 0 0 0 0 0 \n",
      "0 1 0 0 0 0 0 0 0 0 0 0 0 0 0 0 0 0 0 \n",
      "0 0 1 0 0 0 0 0 0 0 0 0 0 0 0 0 0 0 0 \n",
      "0 0 0 1 0 0 0 0 0 0 0 0 0 0 0 0 0 0 0 \n",
      "0 0 0 0 1 0 0 0 0 0 0 0 0 0 0 0 0 0 0 \n",
      "0 0 0 0 0 0 0 0 0 0 0 0 0 0 0 0 0 0 0 \n",
      "0 0 0 0 0 0 0 0 0 0 0 0 0 0 0 0 0 0 0 \n",
      "0 0 0 0 0 0 0 0 0 0 0 0 0 0 0 0 0 0 0 \n",
      "0 0 0 0 0 0 0 0 0 0 0 0 0 0 0 0 0 0 0 \n",
      "0 0 0 0 0 0 0 0 0 0 0 0 0 0 0 0 0 0 0 \n",
      "0 0 0 0 0 0 0 0 0 0 0 0 0 0 0 0 0 0 0 \n",
      "0 0 0 0 0 0 0 0 0 0 0 0 0 0 0 0 0 0 0 \n",
      "0 0 0 0 0 0 0 0 0 0 0 0 0 0 0 0 0 0 0 \n",
      "0 0 0 0 0 0 0 0 0 0 0 0 0 0 0 0 0 0 0 \n",
      "0 0 0 0 0 0 0 0 0 0 0 0 0 0 0 0 0 0 0 \n",
      "0 0 0 0 0 0 0 0 0 0 0 0 0 0 0 0 0 0 0 \n",
      "0 0 0 0 0 0 0 0 0 0 0 0 0 0 0 0 0 0 0 \n",
      "0 0 0 0 0 0 0 0 0 0 0 0 0 0 0 0 0 0 0 \n",
      "0 0 0 0 0 0 0 0 0 0 0 0 0 0 0 0 0 0 0 \n"
     ]
    }
   ],
   "source": [
    "# 95\n",
    "# 바둑판에 올려 놓을 흰 돌의 개수(n)가 첫 줄에 입력된다.\n",
    "# 둘째 줄 부터 n+1 번째 줄까지 힌 돌을 놓을 좌표(x, y)가 n줄 입력된다.\n",
    "# n은 10이하의 자연수이고 x, y 좌표는 1 ~ 19 까지이며, 똑같은 좌표는 입력되지 않는다.\n",
    "# 답 배낌\n",
    "\n",
    "\n",
    "d = []\n",
    "for i in range(20) :\n",
    "    d.append([])         #리스트 안에 다른 리스트 추가해 넣기\n",
    "    for j in range(20) : \n",
    "        d[i].append(0)    #리스트 안에 들어있는 리스트 안에 0 추가해 넣기\n",
    "\n",
    "n = int(input())\n",
    "for i in range(n):\n",
    "    x, y = map(int, input().split())\n",
    "    d[x][y] = 1\n",
    "\n",
    "for i in range(1, 20) :\n",
    "    for j in range(1, 20) : \n",
    "        print(d[i][j], end=' ')    #공백을 두고 한 줄로 출력\n",
    "    print()                          #줄 바꿈\n"
   ]
  },
  {
   "cell_type": "code",
   "execution_count": null,
   "id": "f628b478",
   "metadata": {},
   "outputs": [],
   "source": [
    "# 96\n",
    "\n",
    "d = []\n",
    "for i in range(19):\n",
    "    eachline = input().split()\n",
    "    d.append(eachline)\n",
    "\n",
    "n = int(input())\n",
    "for i in range(n):\n",
    "    x, y = map(int, input().split())\n",
    "\n",
    "    for k in range(19):\n",
    "        if d[k][y-1] == '0':\n",
    "            d[k][y-1] = '1'\n",
    "        else:\n",
    "            d[k][y-1] = '0'\n",
    "\n",
    "        if d[x-1][k] == '0':\n",
    "            d[x-1][k] = '1'\n",
    "        else:\n",
    "            d[x-1][k] = '0'\n",
    "\n",
    "for i in range(19):\n",
    "    for j in range(19):\n",
    "        print(d[i][j], end=' ')\n",
    "    print()\n"
   ]
  },
  {
   "cell_type": "code",
   "execution_count": 6,
   "id": "1bc120b9",
   "metadata": {},
   "outputs": [
    {
     "name": "stdout",
     "output_type": "stream",
     "text": [
      "2 2\n",
      "[[0, 0], [0, 0]]\n"
     ]
    }
   ],
   "source": [
    "h, w = map(int, input().split())\n",
    "\n",
    "d = []\n",
    "for i in range(h):\n",
    "    d.append([])\n",
    "    for j in range(w):\n",
    "        d[i].append(0)\n",
    "\n",
    "print(d)"
   ]
  },
  {
   "cell_type": "code",
   "execution_count": null,
   "id": "2caa40d7",
   "metadata": {},
   "outputs": [],
   "source": [
    "# 97\n",
    "h, w = map(int, input().split())\n",
    "\n",
    "numlist = []\n",
    "for i in range(h):\n",
    "    numlist.append([])\n",
    "    for j in range(w):\n",
    "        numlist[i].append(0)\n",
    "\n",
    "n = int(input())\n",
    "for i in range(n):\n",
    "    l, d, x, y = map(int, input().split())\n",
    "    if d == 0: \n",
    "        for k in range(l):\n",
    "            numlist[x-1][y-1] = 1\n",
    "            y += 1\n",
    "    elif d == 1: \n",
    "        for k in range(l):\n",
    "            numlist[x-1][y-1] = 1\n",
    "            x += 1\n",
    "\n",
    "for i in range(h):\n",
    "    for j in range(w):\n",
    "        print(numlist[i][j], end=' ')\n",
    "    print()\n"
   ]
  },
  {
   "cell_type": "code",
   "execution_count": null,
   "id": "e5fe3aba",
   "metadata": {},
   "outputs": [],
   "source": [
    "d = []\n",
    "for i in range(10):\n",
    "    eachline = input().split()\n",
    "    eachline = list(map(int, eachline))\n",
    "    d.append(eachline)\n",
    "\n",
    "\n",
    "print(d)"
   ]
  },
  {
   "cell_type": "code",
   "execution_count": null,
   "id": "c98e6189",
   "metadata": {},
   "outputs": [],
   "source": [
    "# 98\n",
    "\n",
    "d = []\n",
    "for i in range(10):\n",
    "    eachline = input().split()\n",
    "    eachline = list(map(int, eachline)) # 공부하자 !!\n",
    "    d.append(eachline)\n",
    "\n",
    "x, y = 1, 1\n",
    "d[x][y] = 9\n",
    "    \n",
    "while (d[x][y+1] != 2) and (d[x+1][y] != 2):\n",
    "    if d[x][y+1] == 0:\n",
    "        d[x][y+1] = 9\n",
    "        y += 1\n",
    "    elif d[x][y+1] == 1:\n",
    "        d[x+1][y] = 9 \n",
    "        x += 1\n",
    "    \n",
    "    if (x == 8) and (y == 8):\n",
    "        break\n",
    "\n",
    "if d[x][y+1] == 2:\n",
    "    d[x][y+1] = 9\n",
    "elif d[x+1][y] == 2:\n",
    "    d[x+1][y] = 9\n",
    "\n",
    "\n",
    "for i in range(10):\n",
    "    for j in range(10):\n",
    "        print(d[i][j], end=' ')\n",
    "    print()\n",
    "    "
   ]
  },
  {
   "cell_type": "code",
   "execution_count": null,
   "id": "a495b78a",
   "metadata": {},
   "outputs": [],
   "source": [
    "# 98 이게 정답이다!\n",
    "\n",
    "d = []\n",
    "for i in range(10):\n",
    "    eachline = input().split()\n",
    "    eachline = list(map(int, eachline)) # 공부하자 !!\n",
    "    d.append(eachline)\n",
    "\n",
    "x, y = 1, 1\n",
    "d[x][y] = 9\n",
    "    \n",
    "while True:\n",
    "    if d[x][y+1] == 0:\n",
    "        d[x][y+1] = 9\n",
    "        y += 1\n",
    "    elif d[x][y+1] == 1:\n",
    "        if d[x+1][y] == 2:\n",
    "            d[x+1][y] = 9\n",
    "            break\n",
    "        else:\n",
    "            d[x+1][y] = 9\n",
    "            x += 1\n",
    "    elif d[x][y+1] == 2:\n",
    "        d[x][y+1] = 9\n",
    "        break\n",
    "    \n",
    "    if (x == 8) and (y == 8):\n",
    "        break\n",
    "\n",
    "for i in range(10):\n",
    "    for j in range(10):\n",
    "        print(d[i][j], end=' ')\n",
    "    print()\n",
    "    "
   ]
  }
 ],
 "metadata": {
  "kernelspec": {
   "display_name": "Python 3",
   "language": "python",
   "name": "python3"
  },
  "language_info": {
   "codemirror_mode": {
    "name": "ipython",
    "version": 3
   },
   "file_extension": ".py",
   "mimetype": "text/x-python",
   "name": "python",
   "nbconvert_exporter": "python",
   "pygments_lexer": "ipython3",
   "version": "3.8.10"
  }
 },
 "nbformat": 4,
 "nbformat_minor": 5
}
